{
  "nbformat": 4,
  "nbformat_minor": 0,
  "metadata": {
    "colab": {
      "name": "Task 3: Explore Unsupervised Machine Learning.ipynb",
      "provenance": []
    },
    "kernelspec": {
      "name": "python3",
      "display_name": "Python 3"
    }
  },
  "cells": [
    {
      "cell_type": "markdown",
      "metadata": {
        "id": "cpuZBfiAjKKq",
        "colab_type": "text"
      },
      "source": [
        "# **Task 3: To Explore Unsupervised Machine Learning**\n",
        "#####From the given ‘Iris’ dataset, predict the optimum number of clusters and represent it visually.\n",
        " "
      ]
    },
    {
      "cell_type": "markdown",
      "metadata": {
        "id": "k38zosccjJ6E",
        "colab_type": "text"
      },
      "source": [
        "###### **Name: kuldip kumar sah**\n",
        "####  Asansol Engineering College\n",
        "#### Applied Electronics & Instrumentation Engineering"
      ]
    },
    {
      "cell_type": "markdown",
      "metadata": {
        "id": "J1YoK7mKjJwO",
        "colab_type": "text"
      },
      "source": [
        "### **Importing all required libraries**"
      ]
    },
    {
      "cell_type": "code",
      "metadata": {
        "id": "9I_fiKuOipmK",
        "colab_type": "code",
        "colab": {}
      },
      "source": [
        "import pandas as pd\n",
        "import numpy as np\n",
        "from sklearn import datasets\n",
        "from sklearn.cluster import KMeans\n",
        "import matplotlib.pyplot as plt"
      ],
      "execution_count": 1,
      "outputs": []
    },
    {
      "cell_type": "markdown",
      "metadata": {
        "id": "836UQq35jqPQ",
        "colab_type": "text"
      },
      "source": [
        "### Finding the optimum number of clusters for k-means classification"
      ]
    },
    {
      "cell_type": "code",
      "metadata": {
        "id": "APpYvyvSjmec",
        "colab_type": "code",
        "colab": {
          "base_uri": "https://localhost:8080/",
          "height": 295
        },
        "outputId": "7a8f4672-b73b-4bd4-f3c0-a8b1422d493c"
      },
      "source": [
        "x = datasets.load_iris().data\n",
        "from sklearn.cluster import KMeans\n",
        "wcss = []\n",
        "for i in range(1, 11):\n",
        "    kmeans = KMeans(n_clusters = i, init = 'k-means++', max_iter = 300, n_init = 10, random_state = 0)\n",
        "    kmeans.fit(x)\n",
        "    wcss.append(kmeans.inertia_)\n",
        "plt.plot(range(1, 11), wcss)\n",
        "plt.title('The elbow method')\n",
        "plt.xlabel('Number of clusters')\n",
        "plt.show()"
      ],
      "execution_count": 2,
      "outputs": [
        {
          "output_type": "display_data",
          "data": {
            "image/png": "[encoded data removed]",
            "text/plain": [
              "<Figure size 432x288 with 1 Axes>"
            ]
          },
          "metadata": {
            "tags": [],
            "needs_background": "light"
          }
        }
      ]
    },
    {
      "cell_type": "markdown",
      "metadata": {
        "id": "5CPkvoKWjzci",
        "colab_type": "text"
      },
      "source": [
        "###### from the above graph we find that the optimum number of clusters for k-means classification is **3**"
      ]
    },
    {
      "cell_type": "markdown",
      "metadata": {
        "id": "bXZNeQS7j3dD",
        "colab_type": "text"
      },
      "source": [
        "### creating dataframe using dataset \"iris\""
      ]
    },
    {
      "cell_type": "code",
      "metadata": {
        "id": "6Q1F1TXpjtgg",
        "colab_type": "code",
        "colab": {
          "base_uri": "https://localhost:8080/",
          "height": 85
        },
        "outputId": "a549a228-1806-4177-b4b5-954568e535ea"
      },
      "source": [
        "iris=datasets.load_iris()\n",
        "iris.feature_names"
      ],
      "execution_count": 3,
      "outputs": [
        {
          "output_type": "execute_result",
          "data": {
            "text/plain": [
              "['sepal length (cm)',\n",
              " 'sepal width (cm)',\n",
              " 'petal length (cm)',\n",
              " 'petal width (cm)']"
            ]
          },
          "metadata": {
            "tags": []
          },
          "execution_count": 3
        }
      ]
    },
    {
      "cell_type": "code",
      "metadata": {
        "id": "3bc-w2G1jwuS",
        "colab_type": "code",
        "colab": {}
      },
      "source": [
        "iris_df = pd.DataFrame({'sepal length (cm)': iris.data[:,0], 'sepal width (cm)': iris.data[:,1], 'cluster': iris.target})"
      ],
      "execution_count": 4,
      "outputs": []
    },
    {
      "cell_type": "code",
      "metadata": {
        "id": "PKY62utNj-G9",
        "colab_type": "code",
        "colab": {
          "base_uri": "https://localhost:8080/",
          "height": 204
        },
        "outputId": "92be04d5-0377-4014-b266-b3ccca527b40"
      },
      "source": [
        "iris_df.head(5)"
      ],
      "execution_count": 5,
      "outputs": [
        {
          "output_type": "execute_result",
          "data": {
            "text/html": [
              "<div>\n",
              "<style scoped>\n",
              "    .dataframe tbody tr th:only-of-type {\n",
              "        vertical-align: middle;\n",
              "    }\n",
              "\n",
              "    .dataframe tbody tr th {\n",
              "        vertical-align: top;\n",
              "    }\n",
              "\n",
              "    .dataframe thead th {\n",
              "        text-align: right;\n",
              "    }\n",
              "</style>\n",
              "<table border=\"1\" class=\"dataframe\">\n",
              "  <thead>\n",
              "    <tr style=\"text-align: right;\">\n",
              "      <th></th>\n",
              "      <th>sepal length (cm)</th>\n",
              "      <th>sepal width (cm)</th>\n",
              "      <th>cluster</th>\n",
              "    </tr>\n",
              "  </thead>\n",
              "  <tbody>\n",
              "    <tr>\n",
              "      <th>0</th>\n",
              "      <td>5.1</td>\n",
              "      <td>3.5</td>\n",
              "      <td>0</td>\n",
              "    </tr>\n",
              "    <tr>\n",
              "      <th>1</th>\n",
              "      <td>4.9</td>\n",
              "      <td>3.0</td>\n",
              "      <td>0</td>\n",
              "    </tr>\n",
              "    <tr>\n",
              "      <th>2</th>\n",
              "      <td>4.7</td>\n",
              "      <td>3.2</td>\n",
              "      <td>0</td>\n",
              "    </tr>\n",
              "    <tr>\n",
              "      <th>3</th>\n",
              "      <td>4.6</td>\n",
              "      <td>3.1</td>\n",
              "      <td>0</td>\n",
              "    </tr>\n",
              "    <tr>\n",
              "      <th>4</th>\n",
              "      <td>5.0</td>\n",
              "      <td>3.6</td>\n",
              "      <td>0</td>\n",
              "    </tr>\n",
              "  </tbody>\n",
              "</table>\n",
              "</div>"
            ],
            "text/plain": [
              "   sepal length (cm)  sepal width (cm)  cluster\n",
              "0                5.1               3.5        0\n",
              "1                4.9               3.0        0\n",
              "2                4.7               3.2        0\n",
              "3                4.6               3.1        0\n",
              "4                5.0               3.6        0"
            ]
          },
          "metadata": {
            "tags": []
          },
          "execution_count": 5
        }
      ]
    },
    {
      "cell_type": "code",
      "metadata": {
        "id": "sl2dYtnhkAOg",
        "colab_type": "code",
        "colab": {
          "base_uri": "https://localhost:8080/",
          "height": 297
        },
        "outputId": "02687009-6e7f-41f5-9d66-81369fd737a3"
      },
      "source": [
        "iris_df.describe()"
      ],
      "execution_count": 6,
      "outputs": [
        {
          "output_type": "execute_result",
          "data": {
            "text/html": [
              "<div>\n",
              "<style scoped>\n",
              "    .dataframe tbody tr th:only-of-type {\n",
              "        vertical-align: middle;\n",
              "    }\n",
              "\n",
              "    .dataframe tbody tr th {\n",
              "        vertical-align: top;\n",
              "    }\n",
              "\n",
              "    .dataframe thead th {\n",
              "        text-align: right;\n",
              "    }\n",
              "</style>\n",
              "<table border=\"1\" class=\"dataframe\">\n",
              "  <thead>\n",
              "    <tr style=\"text-align: right;\">\n",
              "      <th></th>\n",
              "      <th>sepal length (cm)</th>\n",
              "      <th>sepal width (cm)</th>\n",
              "      <th>cluster</th>\n",
              "    </tr>\n",
              "  </thead>\n",
              "  <tbody>\n",
              "    <tr>\n",
              "      <th>count</th>\n",
              "      <td>150.000000</td>\n",
              "      <td>150.000000</td>\n",
              "      <td>150.000000</td>\n",
              "    </tr>\n",
              "    <tr>\n",
              "      <th>mean</th>\n",
              "      <td>5.843333</td>\n",
              "      <td>3.057333</td>\n",
              "      <td>1.000000</td>\n",
              "    </tr>\n",
              "    <tr>\n",
              "      <th>std</th>\n",
              "      <td>0.828066</td>\n",
              "      <td>0.435866</td>\n",
              "      <td>0.819232</td>\n",
              "    </tr>\n",
              "    <tr>\n",
              "      <th>min</th>\n",
              "      <td>4.300000</td>\n",
              "      <td>2.000000</td>\n",
              "      <td>0.000000</td>\n",
              "    </tr>\n",
              "    <tr>\n",
              "      <th>25%</th>\n",
              "      <td>5.100000</td>\n",
              "      <td>2.800000</td>\n",
              "      <td>0.000000</td>\n",
              "    </tr>\n",
              "    <tr>\n",
              "      <th>50%</th>\n",
              "      <td>5.800000</td>\n",
              "      <td>3.000000</td>\n",
              "      <td>1.000000</td>\n",
              "    </tr>\n",
              "    <tr>\n",
              "      <th>75%</th>\n",
              "      <td>6.400000</td>\n",
              "      <td>3.300000</td>\n",
              "      <td>2.000000</td>\n",
              "    </tr>\n",
              "    <tr>\n",
              "      <th>max</th>\n",
              "      <td>7.900000</td>\n",
              "      <td>4.400000</td>\n",
              "      <td>2.000000</td>\n",
              "    </tr>\n",
              "  </tbody>\n",
              "</table>\n",
              "</div>"
            ],
            "text/plain": [
              "       sepal length (cm)  sepal width (cm)     cluster\n",
              "count         150.000000        150.000000  150.000000\n",
              "mean            5.843333          3.057333    1.000000\n",
              "std             0.828066          0.435866    0.819232\n",
              "min             4.300000          2.000000    0.000000\n",
              "25%             5.100000          2.800000    0.000000\n",
              "50%             5.800000          3.000000    1.000000\n",
              "75%             6.400000          3.300000    2.000000\n",
              "max             7.900000          4.400000    2.000000"
            ]
          },
          "metadata": {
            "tags": []
          },
          "execution_count": 6
        }
      ]
    },
    {
      "cell_type": "markdown",
      "metadata": {
        "id": "KeBQwbYhkKEa",
        "colab_type": "text"
      },
      "source": [
        "### finding the centroids of cluster"
      ]
    },
    {
      "cell_type": "code",
      "metadata": {
        "id": "z1XXLSU4kG-V",
        "colab_type": "code",
        "colab": {}
      },
      "source": [
        "centroids={}\n",
        "for i in range(3):\n",
        "  result_list=[]\n",
        "  result_list.append(iris_df.loc[iris_df['cluster']==i]['sepal length (cm)'].mean())\n",
        "  result_list.append(iris_df.loc[iris_df['cluster']==i]['sepal width (cm)'].mean())\n",
        "  centroids[i]=result_list"
      ],
      "execution_count": 7,
      "outputs": []
    },
    {
      "cell_type": "code",
      "metadata": {
        "id": "aGdrf-MMkNJd",
        "colab_type": "code",
        "colab": {
          "base_uri": "https://localhost:8080/",
          "height": 68
        },
        "outputId": "d2816eda-358c-4506-8690-199129570dcb"
      },
      "source": [
        "centroids"
      ],
      "execution_count": 8,
      "outputs": [
        {
          "output_type": "execute_result",
          "data": {
            "text/plain": [
              "{0: [5.005999999999999, 3.428000000000001],\n",
              " 1: [5.936, 2.7700000000000005],\n",
              " 2: [6.587999999999998, 2.9739999999999998]}"
            ]
          },
          "metadata": {
            "tags": []
          },
          "execution_count": 8
        }
      ]
    },
    {
      "cell_type": "markdown",
      "metadata": {
        "id": "V4mdgqtIkRuF",
        "colab_type": "text"
      },
      "source": [
        "#### ploting our data points on 2-D graph to eyeball our dataset and see if we can manually find any relationship between the data."
      ]
    },
    {
      "cell_type": "code",
      "metadata": {
        "id": "eagTYUY5kPCy",
        "colab_type": "code",
        "colab": {
          "base_uri": "https://localhost:8080/",
          "height": 268
        },
        "outputId": "159249b2-40db-4eb2-8b19-2348b28679a9"
      },
      "source": [
        "#plotting datapoint\n",
        "plt.scatter(iris_df['sepal length (cm)'],iris_df['sepal width (cm)'], c=iris.target)\n",
        "plt.show()"
      ],
      "execution_count": 9,
      "outputs": [
        {
          "output_type": "display_data",
          "data": {
            "image/png": "[encoded data removed]",
            "text/plain": [
              "<Figure size 432x288 with 1 Axes>"
            ]
          },
          "metadata": {
            "tags": [],
            "needs_background": "light"
          }
        }
      ]
    },
    {
      "cell_type": "markdown",
      "metadata": {
        "id": "21gAhry2kaBU",
        "colab_type": "text"
      },
      "source": [
        "##### plotting centroids on 2D graph"
      ]
    },
    {
      "cell_type": "code",
      "metadata": {
        "id": "a36Emmb5kWS1",
        "colab_type": "code",
        "colab": {
          "base_uri": "https://localhost:8080/",
          "height": 265
        },
        "outputId": "9b09a2c6-2e82-4e53-9e1d-a5e80681643d"
      },
      "source": [
        "colmap={0: 'r', 1: 'g', 2:'b'}\n",
        "for i in centroids.keys():\n",
        "  plt.scatter(centroids[i][0],centroids[i][1],color=colmap[i])\n",
        "plt.show()"
      ],
      "execution_count": 10,
      "outputs": [
        {
          "output_type": "display_data",
          "data": {
            "image/png": "[encoded data removed]",
            "text/plain": [
              "<Figure size 432x288 with 1 Axes>"
            ]
          },
          "metadata": {
            "tags": [],
            "needs_background": "light"
          }
        }
      ]
    },
    {
      "cell_type": "markdown",
      "metadata": {
        "id": "i52YjxHRkg62",
        "colab_type": "text"
      },
      "source": [
        "#### plotting data point with there centroid on 2D graph"
      ]
    },
    {
      "cell_type": "code",
      "metadata": {
        "id": "7lltREUBkcmU",
        "colab_type": "code",
        "colab": {
          "base_uri": "https://localhost:8080/",
          "height": 322
        },
        "outputId": "8744aecd-5bc5-4980-c2d6-f5897f1f1c00"
      },
      "source": [
        "fig=plt.figure(figsize=(5,5))\n",
        "plt.scatter(iris_df['sepal length (cm)'],iris_df['sepal width (cm)'],c=iris.target)\n",
        "col=[0,1]\n",
        "colmap={0: 'r', 1: 'b', 2:'g'}\n",
        "for i in range(3):\n",
        "  plt.scatter(centroids[i][0],centroids[i][1],color=colmap[i],edgecolors='k', s=100) \n",
        "plt.show()"
      ],
      "execution_count": 11,
      "outputs": [
        {
          "output_type": "display_data",
          "data": {
            "image/png": "[encoded data removed]",
            "text/plain": [
              "<Figure size 360x360 with 1 Axes>"
            ]
          },
          "metadata": {
            "tags": [],
            "needs_background": "light"
          }
        }
      ]
    },
    {
      "cell_type": "markdown",
      "metadata": {
        "id": "qpdRnk-Dkoel",
        "colab_type": "text"
      },
      "source": [
        "### creating new features ie the distance of each data points from each and every centroieds"
      ]
    },
    {
      "cell_type": "code",
      "metadata": {
        "id": "e7v2zrZrkkXA",
        "colab_type": "code",
        "colab": {}
      },
      "source": [
        "def distance(df,centroids):\n",
        "  for i in range(3):\n",
        "    df['distance_from{}'.format(i)] =(np.sqrt((df['sepal length (cm)']-centroids[i][0]) **2 \n",
        "                                              + (df['sepal width (cm)']-centroids[i][1])**2))\n",
        "  return df"
      ],
      "execution_count": 12,
      "outputs": []
    },
    {
      "cell_type": "code",
      "metadata": {
        "id": "iuImObpRkqpF",
        "colab_type": "code",
        "colab": {}
      },
      "source": [
        "df=distance(iris_df,centroids)"
      ],
      "execution_count": 13,
      "outputs": []
    },
    {
      "cell_type": "code",
      "metadata": {
        "id": "Mby5AFjrktIt",
        "colab_type": "code",
        "colab": {
          "base_uri": "https://localhost:8080/",
          "height": 204
        },
        "outputId": "6164532d-fabe-487a-d502-c879440c34ea"
      },
      "source": [
        "df.head()"
      ],
      "execution_count": 14,
      "outputs": [
        {
          "output_type": "execute_result",
          "data": {
            "text/html": [
              "<div>\n",
              "<style scoped>\n",
              "    .dataframe tbody tr th:only-of-type {\n",
              "        vertical-align: middle;\n",
              "    }\n",
              "\n",
              "    .dataframe tbody tr th {\n",
              "        vertical-align: top;\n",
              "    }\n",
              "\n",
              "    .dataframe thead th {\n",
              "        text-align: right;\n",
              "    }\n",
              "</style>\n",
              "<table border=\"1\" class=\"dataframe\">\n",
              "  <thead>\n",
              "    <tr style=\"text-align: right;\">\n",
              "      <th></th>\n",
              "      <th>sepal length (cm)</th>\n",
              "      <th>sepal width (cm)</th>\n",
              "      <th>cluster</th>\n",
              "      <th>distance_from0</th>\n",
              "      <th>distance_from1</th>\n",
              "      <th>distance_from2</th>\n",
              "    </tr>\n",
              "  </thead>\n",
              "  <tbody>\n",
              "    <tr>\n",
              "      <th>0</th>\n",
              "      <td>5.1</td>\n",
              "      <td>3.5</td>\n",
              "      <td>0</td>\n",
              "      <td>0.118406</td>\n",
              "      <td>1.109863</td>\n",
              "      <td>1.578233</td>\n",
              "    </tr>\n",
              "    <tr>\n",
              "      <th>1</th>\n",
              "      <td>4.9</td>\n",
              "      <td>3.0</td>\n",
              "      <td>0</td>\n",
              "      <td>0.440931</td>\n",
              "      <td>1.061224</td>\n",
              "      <td>1.688200</td>\n",
              "    </tr>\n",
              "    <tr>\n",
              "      <th>2</th>\n",
              "      <td>4.7</td>\n",
              "      <td>3.2</td>\n",
              "      <td>0</td>\n",
              "      <td>0.381602</td>\n",
              "      <td>1.308662</td>\n",
              "      <td>1.901478</td>\n",
              "    </tr>\n",
              "    <tr>\n",
              "      <th>3</th>\n",
              "      <td>4.6</td>\n",
              "      <td>3.1</td>\n",
              "      <td>0</td>\n",
              "      <td>0.521939</td>\n",
              "      <td>1.376153</td>\n",
              "      <td>1.991989</td>\n",
              "    </tr>\n",
              "    <tr>\n",
              "      <th>4</th>\n",
              "      <td>5.0</td>\n",
              "      <td>3.6</td>\n",
              "      <td>0</td>\n",
              "      <td>0.172105</td>\n",
              "      <td>1.250998</td>\n",
              "      <td>1.706933</td>\n",
              "    </tr>\n",
              "  </tbody>\n",
              "</table>\n",
              "</div>"
            ],
            "text/plain": [
              "   sepal length (cm)  sepal width (cm)  ...  distance_from1  distance_from2\n",
              "0                5.1               3.5  ...        1.109863        1.578233\n",
              "1                4.9               3.0  ...        1.061224        1.688200\n",
              "2                4.7               3.2  ...        1.308662        1.901478\n",
              "3                4.6               3.1  ...        1.376153        1.991989\n",
              "4                5.0               3.6  ...        1.250998        1.706933\n",
              "\n",
              "[5 rows x 6 columns]"
            ]
          },
          "metadata": {
            "tags": []
          },
          "execution_count": 14
        }
      ]
    },
    {
      "cell_type": "markdown",
      "metadata": {
        "id": "SoMbEYNbkxYv",
        "colab_type": "text"
      },
      "source": [
        "### creating new feature which denotes the nearest centroied from that data point"
      ]
    },
    {
      "cell_type": "code",
      "metadata": {
        "id": "oIRdnXdukvYA",
        "colab_type": "code",
        "colab": {}
      },
      "source": [
        "centroid_distance_cols=['distance_from{}'.format(i) for i in range(3)]\n",
        "df['closest_centroid']=df.loc[:,centroid_distance_cols].idxmin(axis=1)\n",
        "df['closest_centroid']=df['closest_centroid'].map(lambda x: int(x.lstrip('distance_from')))\n",
        "df['color']=df['closest_centroid'].map(lambda x: colmap[x])"
      ],
      "execution_count": 15,
      "outputs": []
    },
    {
      "cell_type": "code",
      "metadata": {
        "id": "O7ZmZFxxkzl1",
        "colab_type": "code",
        "colab": {
          "base_uri": "https://localhost:8080/",
          "height": 204
        },
        "outputId": "7935bd98-668a-4a2d-9c55-3a2f49e7e97c"
      },
      "source": [
        "df.head()"
      ],
      "execution_count": 16,
      "outputs": [
        {
          "output_type": "execute_result",
          "data": {
            "text/html": [
              "<div>\n",
              "<style scoped>\n",
              "    .dataframe tbody tr th:only-of-type {\n",
              "        vertical-align: middle;\n",
              "    }\n",
              "\n",
              "    .dataframe tbody tr th {\n",
              "        vertical-align: top;\n",
              "    }\n",
              "\n",
              "    .dataframe thead th {\n",
              "        text-align: right;\n",
              "    }\n",
              "</style>\n",
              "<table border=\"1\" class=\"dataframe\">\n",
              "  <thead>\n",
              "    <tr style=\"text-align: right;\">\n",
              "      <th></th>\n",
              "      <th>sepal length (cm)</th>\n",
              "      <th>sepal width (cm)</th>\n",
              "      <th>cluster</th>\n",
              "      <th>distance_from0</th>\n",
              "      <th>distance_from1</th>\n",
              "      <th>distance_from2</th>\n",
              "      <th>closest_centroid</th>\n",
              "      <th>color</th>\n",
              "    </tr>\n",
              "  </thead>\n",
              "  <tbody>\n",
              "    <tr>\n",
              "      <th>0</th>\n",
              "      <td>5.1</td>\n",
              "      <td>3.5</td>\n",
              "      <td>0</td>\n",
              "      <td>0.118406</td>\n",
              "      <td>1.109863</td>\n",
              "      <td>1.578233</td>\n",
              "      <td>0</td>\n",
              "      <td>r</td>\n",
              "    </tr>\n",
              "    <tr>\n",
              "      <th>1</th>\n",
              "      <td>4.9</td>\n",
              "      <td>3.0</td>\n",
              "      <td>0</td>\n",
              "      <td>0.440931</td>\n",
              "      <td>1.061224</td>\n",
              "      <td>1.688200</td>\n",
              "      <td>0</td>\n",
              "      <td>r</td>\n",
              "    </tr>\n",
              "    <tr>\n",
              "      <th>2</th>\n",
              "      <td>4.7</td>\n",
              "      <td>3.2</td>\n",
              "      <td>0</td>\n",
              "      <td>0.381602</td>\n",
              "      <td>1.308662</td>\n",
              "      <td>1.901478</td>\n",
              "      <td>0</td>\n",
              "      <td>r</td>\n",
              "    </tr>\n",
              "    <tr>\n",
              "      <th>3</th>\n",
              "      <td>4.6</td>\n",
              "      <td>3.1</td>\n",
              "      <td>0</td>\n",
              "      <td>0.521939</td>\n",
              "      <td>1.376153</td>\n",
              "      <td>1.991989</td>\n",
              "      <td>0</td>\n",
              "      <td>r</td>\n",
              "    </tr>\n",
              "    <tr>\n",
              "      <th>4</th>\n",
              "      <td>5.0</td>\n",
              "      <td>3.6</td>\n",
              "      <td>0</td>\n",
              "      <td>0.172105</td>\n",
              "      <td>1.250998</td>\n",
              "      <td>1.706933</td>\n",
              "      <td>0</td>\n",
              "      <td>r</td>\n",
              "    </tr>\n",
              "  </tbody>\n",
              "</table>\n",
              "</div>"
            ],
            "text/plain": [
              "   sepal length (cm)  sepal width (cm)  ...  closest_centroid  color\n",
              "0                5.1               3.5  ...                 0      r\n",
              "1                4.9               3.0  ...                 0      r\n",
              "2                4.7               3.2  ...                 0      r\n",
              "3                4.6               3.1  ...                 0      r\n",
              "4                5.0               3.6  ...                 0      r\n",
              "\n",
              "[5 rows x 8 columns]"
            ]
          },
          "metadata": {
            "tags": []
          },
          "execution_count": 16
        }
      ]
    },
    {
      "cell_type": "code",
      "metadata": {
        "id": "gdu6yOetk3bP",
        "colab_type": "code",
        "colab": {
          "base_uri": "https://localhost:8080/",
          "height": 322
        },
        "outputId": "3e359c89-2001-4235-bc96-6843edc77d42"
      },
      "source": [
        "fig=plt.figure(figsize=(5,5))\n",
        "plt.scatter(iris_df['sepal length (cm)'],iris_df['sepal width (cm)'],c=df['color'],alpha=0.4)\n",
        "for i in range(3):\n",
        "  plt.scatter(*centroids[i],color=colmap[i],s=100,edgecolors='k')\n",
        "plt.show()"
      ],
      "execution_count": 17,
      "outputs": [
        {
          "output_type": "display_data",
          "data": {
            "image/png": "[encoded data removed]",
            "text/plain": [
              "<Figure size 360x360 with 1 Axes>"
            ]
          },
          "metadata": {
            "tags": [],
            "needs_background": "light"
          }
        }
      ]
    },
    {
      "cell_type": "markdown",
      "metadata": {
        "id": "l36JLKRKm8KS",
        "colab_type": "text"
      },
      "source": [
        "# **Thank you**"
      ]
    }
  ]
}